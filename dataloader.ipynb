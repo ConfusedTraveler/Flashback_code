{
 "cells": [
  {
   "cell_type": "code",
   "execution_count": 42,
   "id": "48f9463a",
   "metadata": {},
   "outputs": [],
   "source": [
    "file = './data/test.txt'"
   ]
  },
  {
   "cell_type": "code",
   "execution_count": 43,
   "id": "cac1c668",
   "metadata": {},
   "outputs": [],
   "source": [
    "user2id = {}"
   ]
  },
  {
   "cell_type": "code",
   "execution_count": 44,
   "id": "c724ea93",
   "metadata": {},
   "outputs": [],
   "source": [
    "def read_users(file):        \n",
    "        with open(file, 'r') as f:            \n",
    "            lines = f.readlines()\n",
    "            prev_user = int(lines[0].split('\\t')[0])\n",
    "            visit_cnt = 0\n",
    "            for line in lines:\n",
    "                tokens = line.strip().split('\\t')\n",
    "                print(tokens)\n",
    "                user = int(tokens[0])\n",
    "                if user == prev_user:\n",
    "                    visit_cnt += 1\n",
    "                else:\n",
    "                    if visit_cnt >= 3:\n",
    "                        user2id[prev_user] = len(user2id)\n",
    "                    #else:\n",
    "                    #    print('discard user {}: to few checkins ({})'.format(prev_user, visit_cnt))\n",
    "                    prev_user = user\n",
    "                    visit_cnt = 1\n",
    "                    if len(user2id) >= 4:\n",
    "                        break # restrict to max users"
   ]
  },
  {
   "cell_type": "code",
   "execution_count": 45,
   "id": "14c54856",
   "metadata": {},
   "outputs": [
    {
     "name": "stdout",
     "output_type": "stream",
     "text": [
      "['75', '2013-12-20T15:24:43Z', '7.05008100', '125.58815300', '1320272']\n",
      "['75', '2013-12-13T03:34:24Z', '7.09084200', '125.61153900', '3519110']\n",
      "['75', '2013-11-08T10:38:39Z', '7.09067200', '125.61175300', '3519671']\n",
      "['65', '2013-12-20T15:24:43Z', '7.05008100', '125.58815300', '1320272']\n",
      "['65', '2013-12-13T03:34:24Z', '7.09084200', '125.61153900', '3519110']\n",
      "['65', '2013-11-08T10:38:39Z', '7.09067200', '125.61175300', '3519671']\n",
      "['55', '2013-12-20T15:24:43Z', '7.05008100', '125.58815300', '1320272']\n",
      "['55', '2013-12-13T03:34:24Z', '7.09084200', '125.61153900', '3519110']\n",
      "['55', '2013-11-08T10:38:39Z', '7.09067200', '125.61175300', '3519671']\n"
     ]
    }
   ],
   "source": [
    "read_users(file)"
   ]
  },
  {
   "cell_type": "code",
   "execution_count": 46,
   "id": "a8f3a9e7",
   "metadata": {},
   "outputs": [
    {
     "data": {
      "text/plain": [
       "{75: 0, 65: 1}"
      ]
     },
     "execution_count": 46,
     "metadata": {},
     "output_type": "execute_result"
    }
   ],
   "source": [
    "user2id"
   ]
  },
  {
   "cell_type": "code",
   "execution_count": 47,
   "id": "f955f37e",
   "metadata": {},
   "outputs": [],
   "source": [
    "user2id = {}"
   ]
  },
  {
   "cell_type": "code",
   "execution_count": 57,
   "id": "9d3d4440",
   "metadata": {},
   "outputs": [],
   "source": [
    "def read_users(file):\n",
    "    with open(file, 'r') as f:\n",
    "        prev_user = None\n",
    "        visit_cnt = 0\n",
    "        break_occurred = False\n",
    "\n",
    "        for line in f:\n",
    "            tokens = line.strip().split('\\t')\n",
    "            user = int(tokens[0])\n",
    "\n",
    "            if prev_user is None:\n",
    "                prev_user = user\n",
    "                visit_cnt = 1\n",
    "                continue\n",
    "\n",
    "            if user == prev_user:\n",
    "                visit_cnt += 1\n",
    "            else:\n",
    "                if visit_cnt >= 3:\n",
    "                    user2id[prev_user] = len(user2id)\n",
    "                # else:\n",
    "                #     print(f'discard user {prev_user}: too few checkins ({visit_cnt})')\n",
    "                prev_user = user\n",
    "                visit_cnt = 1\n",
    "                if len(user2id) >= 4:\n",
    "                    break_occurred = True\n",
    "                    break\n",
    "        # 处理最后一个用户\n",
    "        if not break_occurred and prev_user is not None and visit_cnt >= 3:\n",
    "            user2id[prev_user] = len(user2id)  "
   ]
  },
  {
   "cell_type": "code",
   "execution_count": 58,
   "id": "9d501dd3",
   "metadata": {},
   "outputs": [],
   "source": [
    "read_users(file)"
   ]
  },
  {
   "cell_type": "code",
   "execution_count": 59,
   "id": "a4151743",
   "metadata": {},
   "outputs": [
    {
     "data": {
      "text/plain": [
       "{75: 0, 65: 1, 55: 2}"
      ]
     },
     "execution_count": 59,
     "metadata": {},
     "output_type": "execute_result"
    }
   ],
   "source": [
    "user2id"
   ]
  },
  {
   "cell_type": "code",
   "execution_count": 60,
   "id": "20e88df3",
   "metadata": {},
   "outputs": [
    {
     "data": {
      "text/plain": [
       "0"
      ]
     },
     "execution_count": 60,
     "metadata": {},
     "output_type": "execute_result"
    }
   ],
   "source": [
    "user2id[75]"
   ]
  },
  {
   "cell_type": "code",
   "execution_count": 61,
   "id": "e236e829",
   "metadata": {},
   "outputs": [
    {
     "data": {
      "text/plain": [
       "0"
      ]
     },
     "execution_count": 61,
     "metadata": {},
     "output_type": "execute_result"
    }
   ],
   "source": [
    "user2id.get(75)"
   ]
  },
  {
   "cell_type": "code",
   "execution_count": 62,
   "id": "c578ef44",
   "metadata": {},
   "outputs": [],
   "source": [
    "from datetime import datetime"
   ]
  },
  {
   "cell_type": "code",
   "execution_count": 64,
   "id": "1354652a",
   "metadata": {},
   "outputs": [
    {
     "data": {
      "text/plain": [
       "datetime.datetime(2013, 12, 20, 15, 24, 43)"
      ]
     },
     "execution_count": 64,
     "metadata": {},
     "output_type": "execute_result"
    }
   ],
   "source": [
    "time =  '2013-12-20T15:24:43Z'\n",
    "time = datetime.strptime(time, \"%Y-%m-%dT%H:%M:%SZ\")\n",
    "time"
   ]
  },
  {
   "cell_type": "code",
   "execution_count": 65,
   "id": "c6bf34b2",
   "metadata": {},
   "outputs": [
    {
     "data": {
      "text/plain": [
       "datetime.datetime(1970, 1, 1, 0, 0)"
      ]
     },
     "execution_count": 65,
     "metadata": {},
     "output_type": "execute_result"
    }
   ],
   "source": [
    "datetime(1970,1,1)"
   ]
  },
  {
   "cell_type": "code",
   "execution_count": 71,
   "id": "d6807e0c",
   "metadata": {},
   "outputs": [],
   "source": [
    "poi2id = {}\n",
    "users = []\n",
    "times = []\n",
    "coords = []\n",
    "locs = []"
   ]
  },
  {
   "cell_type": "code",
   "execution_count": 72,
   "id": "29bffb9b",
   "metadata": {},
   "outputs": [],
   "source": [
    "def read_pois(file):\n",
    "    '''\n",
    "    self.users   → [user0_id, user1_id, ..., userN_id]           # 用户 ID 列表\n",
    "    self.times   → [[t1, t2, ...], [t1, t2, ...], ...]           # 每个用户的签到时间序列（按时间倒序）\n",
    "    self.coords  → [[(lat, lon), ...], [(lat, lon), ...], ...]   # 每个用户的签到坐标序列（按时间倒序）\n",
    "    self.locs    → [[loc1, loc2, ...], [loc1, loc2, ...], ...]   # 每个用户的新位置编号序列（按时间倒序）\n",
    "    self.poi2id  → {原始location_id: 新ID}                       # 全部位置的映射表\n",
    "    '''\n",
    "    with open(file, 'r') as f:\n",
    "        # store location ids\n",
    "        user_time = []\n",
    "        user_coord = []\n",
    "        user_loc = []\n",
    "        \n",
    "        line = f.readline()\n",
    "        prev_user = int(line.strip().split('\\t')[0])\n",
    "        prev_user_id = user2id.get(prev_user)\n",
    "        f.seek(0)\n",
    "        for line in f:\n",
    "            tokens = line.strip().split('\\t')\n",
    "            user = int(tokens[0])\n",
    "            if user2id.get(user) is None:\n",
    "                continue # user is not of interest\n",
    "            user_id = user2id.get(user)\n",
    "            # datetime.strptime(tokens[1], \"%Y-%m-%dT%H:%M:%SZ\"): datetime.datetime(2013, 12, 20, 15, 24, 43)\n",
    "            # T 是 ISO 8601 标准中用于连接日期和时间的分隔符\n",
    "            # Z 表示时间是在 UTC 时间（零时区）     \n",
    "            time = (datetime.strptime(tokens[1], \"%Y-%m-%dT%H:%M:%SZ\") - datetime(1970, 1, 1)).total_seconds() # unix seconds\n",
    "            lat = float(tokens[2])\n",
    "            long = float(tokens[3])\n",
    "            coord = (lat, long)            \n",
    "            location = int(tokens[4]) # location nr\n",
    "            if poi2id.get(location) is None: # get-or-set locations\n",
    "                poi2id[location] = len(poi2id)\n",
    "            location_id = poi2id.get(location)\n",
    "    \n",
    "            if user_id == prev_user_id:\n",
    "                # insert in front!\n",
    "                user_time.insert(0, time)\n",
    "                user_coord.insert(0, coord)\n",
    "                user_loc.insert(0, location_id)\n",
    "            else:\n",
    "                users.append(prev_user_id)\n",
    "                times.append(user_time)\n",
    "                coords.append(user_coord)\n",
    "                locs.append(user_loc)\n",
    "                \n",
    "                # restart:\n",
    "                prev_user_id = user_id \n",
    "                user_time = [time]\n",
    "                user_coord = [coord]\n",
    "                user_loc = [location_id] \n",
    "                \n",
    "        # process also the latest user in the for loop\n",
    "        users.append(prev_user_id)\n",
    "        times.append(user_time)\n",
    "        coords.append(user_coord)\n",
    "        locs.append(user_loc)"
   ]
  },
  {
   "cell_type": "code",
   "execution_count": 73,
   "id": "618bd5f4",
   "metadata": {},
   "outputs": [],
   "source": [
    "read_pois(file)"
   ]
  },
  {
   "cell_type": "code",
   "execution_count": 74,
   "id": "edda3213",
   "metadata": {},
   "outputs": [
    {
     "name": "stdout",
     "output_type": "stream",
     "text": [
      "{1320272: 0, 3519110: 1, 3519671: 2}\n",
      "[0, 1, 2]\n",
      "[[1383907119.0, 1386905664.0, 1387553083.0], [1383907119.0, 1386905664.0, 1387553083.0], [1383907119.0, 1386905664.0, 1387553083.0]]\n",
      "[[(7.090672, 125.611753), (7.090842, 125.611539), (7.050081, 125.588153)], [(7.090672, 125.611753), (7.090842, 125.611539), (7.050081, 125.588153)], [(7.090672, 125.611753), (7.090842, 125.611539), (7.050081, 125.588153)]]\n",
      "[[2, 1, 0], [2, 1, 0], [2, 1, 0]]\n"
     ]
    }
   ],
   "source": [
    "print(poi2id)\n",
    "print(users)\n",
    "print(times)\n",
    "print(coords)\n",
    "print(locs)"
   ]
  }
 ],
 "metadata": {
  "kernelspec": {
   "display_name": "stgcn",
   "language": "python",
   "name": "python3"
  },
  "language_info": {
   "codemirror_mode": {
    "name": "ipython",
    "version": 3
   },
   "file_extension": ".py",
   "mimetype": "text/x-python",
   "name": "python",
   "nbconvert_exporter": "python",
   "pygments_lexer": "ipython3",
   "version": "3.10.15"
  }
 },
 "nbformat": 4,
 "nbformat_minor": 5
}
